{
 "cells": [
  {
   "cell_type": "code",
   "execution_count": 6,
   "metadata": {},
   "outputs": [],
   "source": [
    "from other_methods_implemenations  import *\n",
    "from mcut import broader_df\n",
    "import pandas as pd\n",
    "import numpy as np\n",
    "import pickle"
   ]
  },
  {
   "cell_type": "code",
   "execution_count": 7,
   "metadata": {},
   "outputs": [],
   "source": [
    "df = pd.read_pickle('data/broaded_df').dropna()"
   ]
  },
  {
   "cell_type": "code",
   "execution_count": 8,
   "metadata": {},
   "outputs": [],
   "source": [
    "train = df.loc['2021':'2022']\n",
    "test = df.loc['2023':'2023-3']"
   ]
  },
  {
   "cell_type": "code",
   "execution_count": 6,
   "metadata": {},
   "outputs": [
    {
     "name": "stderr",
     "output_type": "stream",
     "text": [
      "100%|██████████| 5/5 [07:00<00:00, 84.04s/it] \n"
     ]
    }
   ],
   "source": [
    "# for i_raw in tqdm(range(5, 30, 5)):\n",
    "#     i = i_raw/100\n",
    "#     now = pd.Timestamp.now(tz='CET')\n",
    "#     features = RFE_feature_selection(train, i)\n",
    "#     time_ = pd.Timestamp.now(tz='CET') - now\n",
    "#     with open(f'data/RFE_feature_selection_{i_raw}.pkl', 'wb') as f:\n",
    "#         pickle.dump(features + [time_], f)\n"
   ]
  },
  {
   "cell_type": "code",
   "execution_count": 5,
   "metadata": {},
   "outputs": [
    {
     "name": "stderr",
     "output_type": "stream",
     "text": [
      "100%|██████████| 5/5 [1:14:00<00:00, 888.17s/it] \n"
     ]
    }
   ],
   "source": [
    "for i in tqdm(range(5, 30, 5)):\n",
    "    now = pd.Timestamp.now(tz='CET')\n",
    "    features = sequential_feature_selection(train.drop(columns=['marg']), train.marg, i)\n",
    "    time_ = pd.Timestamp.now(tz='CET') - now\n",
    "    with open(f'data/sequential_feature_selection_{i}.pkl', 'wb') as f:\n",
    "        pickle.dump(features + [time_], f)\n"
   ]
  },
  {
   "cell_type": "code",
   "execution_count": 6,
   "metadata": {},
   "outputs": [
    {
     "name": "stderr",
     "output_type": "stream",
     "text": [
      "100%|██████████| 5/5 [00:02<00:00,  1.81it/s]\n"
     ]
    }
   ],
   "source": [
    "for i in tqdm(range(5, 30, 5)):\n",
    "    now = pd.Timestamp.now(tz='CET')\n",
    "    features = xgboost_feature_selection(train.drop(columns=['marg']), train.marg, i)\n",
    "    time_ = pd.Timestamp.now(tz='CET') - now\n",
    "    with open(f'data/xgboost_feature_selection_{i}.pkl', 'wb') as f:\n",
    "        pickle.dump(features + [time_], f)\n"
   ]
  },
  {
   "cell_type": "code",
   "execution_count": 7,
   "metadata": {},
   "outputs": [
    {
     "name": "stderr",
     "output_type": "stream",
     "text": [
      "  0%|          | 0/5 [00:00<?, ?it/s]c:\\Users\\mikol\\Desktop\\Master thesis\\mcut_feature_selection\\mcut_venv\\lib\\site-packages\\sklearn\\linear_model\\_coordinate_descent.py:678: ConvergenceWarning: Objective did not converge. You might want to increase the number of iterations, check the scale of the features or consider increasing regularisation. Duality gap: 1.519e+08, tolerance: 3.932e+04\n",
      "  model = cd_fast.enet_coordinate_descent(\n",
      " 20%|██        | 1/5 [43:05<2:52:20, 2585.06s/it]c:\\Users\\mikol\\Desktop\\Master thesis\\mcut_feature_selection\\mcut_venv\\lib\\site-packages\\sklearn\\linear_model\\_coordinate_descent.py:678: ConvergenceWarning: Objective did not converge. You might want to increase the number of iterations, check the scale of the features or consider increasing regularisation. Duality gap: 1.463e+08, tolerance: 3.932e+04\n",
      "  model = cd_fast.enet_coordinate_descent(\n",
      " 40%|████      | 2/5 [58:23<1:20:14, 1604.70s/it]c:\\Users\\mikol\\Desktop\\Master thesis\\mcut_feature_selection\\mcut_venv\\lib\\site-packages\\sklearn\\linear_model\\_coordinate_descent.py:678: ConvergenceWarning: Objective did not converge. You might want to increase the number of iterations, check the scale of the features or consider increasing regularisation. Duality gap: 1.390e+08, tolerance: 3.932e+04\n",
      "  model = cd_fast.enet_coordinate_descent(\n",
      " 60%|██████    | 3/5 [1:11:42<41:13, 1236.80s/it]c:\\Users\\mikol\\Desktop\\Master thesis\\mcut_feature_selection\\mcut_venv\\lib\\site-packages\\sklearn\\linear_model\\_coordinate_descent.py:678: ConvergenceWarning: Objective did not converge. You might want to increase the number of iterations, check the scale of the features or consider increasing regularisation. Duality gap: 7.946e+07, tolerance: 3.932e+04\n",
      "  model = cd_fast.enet_coordinate_descent(\n",
      " 80%|████████  | 4/5 [1:24:21<17:28, 1048.15s/it]c:\\Users\\mikol\\Desktop\\Master thesis\\mcut_feature_selection\\mcut_venv\\lib\\site-packages\\sklearn\\linear_model\\_coordinate_descent.py:678: ConvergenceWarning: Objective did not converge. You might want to increase the number of iterations, check the scale of the features or consider increasing regularisation. Duality gap: 4.106e+07, tolerance: 3.932e+04\n",
      "  model = cd_fast.enet_coordinate_descent(\n",
      "100%|██████████| 5/5 [1:37:21<00:00, 1168.25s/it]\n"
     ]
    }
   ],
   "source": [
    "for i in tqdm([0.1, 0.5, 1, 5, 10]):\n",
    "    now = pd.Timestamp.now(tz='CET')\n",
    "    features = lasso_feature_selection(train.drop(columns=['marg']), train.marg, i)\n",
    "    time_ = pd.Timestamp.now(tz='CET') - now\n",
    "    with open(f'data/lasso_feature_selection_{i}.pkl', 'wb') as f:\n",
    "        pickle.dump(features + [time_], f)\n"
   ]
  },
  {
   "cell_type": "code",
   "execution_count": 4,
   "metadata": {},
   "outputs": [
    {
     "name": "stderr",
     "output_type": "stream",
     "text": [
      "100%|██████████| 1/1 [01:26<00:00, 86.78s/it]\n"
     ]
    }
   ],
   "source": [
    "for i in tqdm(range(25, 30, 5)):\n",
    "    now = pd.Timestamp.now(tz='CET')\n",
    "    features = relief_algorithm(train.drop(columns=['marg']), train.marg, i)\n",
    "    time_ = pd.Timestamp.now(tz='CET') - now\n",
    "    with open(f'data/relief_algorithm_{i}.pkl', 'wb') as f:\n",
    "        pickle.dump(features + [time_], f)\n"
   ]
  },
  {
   "cell_type": "code",
   "execution_count": 6,
   "metadata": {},
   "outputs": [],
   "source": [
    "import pandas as pd\n",
    "import pickle\n",
    "features = pd.read_pickle('data/relief_algorithm_25.pkl')"
   ]
  },
  {
   "cell_type": "code",
   "execution_count": 8,
   "metadata": {},
   "outputs": [],
   "source": [
    "for i in (range(5, 25, 5)):\n",
    "    with open(f'data/relief_algorithm_{i}.pkl', 'wb') as f:\n",
    "        pickle.dump(features[:i] + [0], f)"
   ]
  },
  {
   "cell_type": "code",
   "execution_count": 4,
   "metadata": {},
   "outputs": [],
   "source": [
    "from tqdm.auto import tqdm\n",
    "import pandas as pd\n",
    "from other_methods_implemenations import *"
   ]
  },
  {
   "cell_type": "code",
   "execution_count": 9,
   "metadata": {},
   "outputs": [
    {
     "name": "stdout",
     "output_type": "stream",
     "text": [
      "Max condition is abs(mono)>0.6\n",
      "Number of features is 118\n",
      "I saved it as 'results'.\n",
      "I saved importantn features due to the Lasso regression as an attribute 'important_features'.\n"
     ]
    },
    {
     "name": "stderr",
     "output_type": "stream",
     "text": [
      "100%|██████████| 5/5 [6:29:37<00:00, 4675.60s/it]  \n"
     ]
    }
   ],
   "source": [
    "for i in tqdm(range(50, 175, 25)):\n",
    "    now = pd.Timestamp.now(tz='CET')\n",
    "    features = mcut_feature_selection(train, 6, 'marg', np.mean, 7, mcut, 1, i, 5)\n",
    "    time_ = pd.Timestamp.now(tz='CET') - now\n",
    "    with open(f'data/mcut_feature_selection_{i}.pkl', 'wb') as f:\n",
    "        pickle.dump(features + [time_], f)\n"
   ]
  },
  {
   "cell_type": "code",
   "execution_count": null,
   "metadata": {},
   "outputs": [],
   "source": []
  }
 ],
 "metadata": {
  "kernelspec": {
   "display_name": "mcut_venv",
   "language": "python",
   "name": "python3"
  },
  "language_info": {
   "codemirror_mode": {
    "name": "ipython",
    "version": 3
   },
   "file_extension": ".py",
   "mimetype": "text/x-python",
   "name": "python",
   "nbconvert_exporter": "python",
   "pygments_lexer": "ipython3",
   "version": "3.10.8"
  }
 },
 "nbformat": 4,
 "nbformat_minor": 2
}

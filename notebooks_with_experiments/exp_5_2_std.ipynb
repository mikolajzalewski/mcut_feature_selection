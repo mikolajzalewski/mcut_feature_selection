{
 "cells": [
  {
   "cell_type": "code",
   "execution_count": 2,
   "metadata": {},
   "outputs": [],
   "source": [
    "from other_methods_implemenations  import *\n",
    "from mcut import broader_df\n",
    "import pandas as pd\n",
    "from tqdm.auto import tqdm\n",
    "import numpy as np\n",
    "import pickle"
   ]
  },
  {
   "cell_type": "code",
   "execution_count": 3,
   "metadata": {},
   "outputs": [],
   "source": [
    "df = pd.read_pickle('../data/broaded_df').dropna()\n",
    "train = df.loc['2021':'2022'].copy()\n",
    "train_mean = train.mean()\n",
    "train_std = train.std()\n",
    "train = (train - train_mean) / train_std * 100\n",
    "train['marg'] = pd.read_pickle('../data/broaded_df').dropna().loc['2021':'2022'].marg\n",
    "\n",
    "\n",
    "test = df.loc['2023':'2023-3'].copy()\n",
    "test = (test - train_mean) / train_std * 100\n",
    "test['marg'] = pd.read_pickle('../data/broaded_df').dropna().loc['2023':'2023-3'].marg\n",
    "\n",
    "nan_cols = list(set(test.isna().sum()[test.isna().sum()>1000].index.tolist() + train.isna().sum()[train.isna().sum()>1000].index.tolist()))\n",
    "\n",
    "train = train.drop(columns=nan_cols).dropna()\n",
    "test = test.drop(columns=nan_cols).dropna()\n"
   ]
  },
  {
   "cell_type": "code",
   "execution_count": 21,
   "metadata": {},
   "outputs": [
    {
     "name": "stderr",
     "output_type": "stream",
     "text": [
      "100%|██████████| 5/5 [00:15<00:00,  3.16s/it]\n"
     ]
    }
   ],
   "source": [
    "for i_raw in tqdm(range(5, 30, 5)):\n",
    "    i = i_raw/100\n",
    "    now = pd.Timestamp.now(tz='CET')\n",
    "    features = RFE_feature_selection(train, i)\n",
    "    time_ = pd.Timestamp.now(tz='CET') - now\n",
    "    with open(f'../data/std_RFE_feature_selection_{i_raw}.pkl', 'wb') as f:\n",
    "        pickle.dump(features + [time_], f)\n"
   ]
  },
  {
   "cell_type": "code",
   "execution_count": 23,
   "metadata": {},
   "outputs": [
    {
     "name": "stderr",
     "output_type": "stream",
     "text": [
      "100%|██████████| 5/5 [09:05<00:00, 109.09s/it]\n"
     ]
    }
   ],
   "source": [
    "for i in tqdm(range(5, 30, 5)):\n",
    "    now = pd.Timestamp.now(tz='CET')\n",
    "    features = sequential_feature_selection(train.drop(columns=['marg']), train.marg, i)\n",
    "    time_ = pd.Timestamp.now(tz='CET') - now\n",
    "    with open(f'../data/std_sequential_feature_selection_{i}.pkl', 'wb') as f:\n",
    "        pickle.dump(features + [time_], f)\n"
   ]
  },
  {
   "cell_type": "code",
   "execution_count": 24,
   "metadata": {},
   "outputs": [
    {
     "name": "stderr",
     "output_type": "stream",
     "text": [
      "100%|██████████| 5/5 [00:02<00:00,  1.76it/s]\n"
     ]
    }
   ],
   "source": [
    "for i in tqdm(range(5, 30, 5)):\n",
    "    now = pd.Timestamp.now(tz='CET')\n",
    "    features = xgboost_feature_selection(train.drop(columns=['marg']), train.marg, i)\n",
    "    time_ = pd.Timestamp.now(tz='CET') - now\n",
    "    with open(f'../data/std_xgboost_feature_selection_{i}.pkl', 'wb') as f:\n",
    "        pickle.dump(features + [time_], f)\n"
   ]
  },
  {
   "cell_type": "code",
   "execution_count": 25,
   "metadata": {},
   "outputs": [
    {
     "name": "stderr",
     "output_type": "stream",
     "text": [
      "  0%|          | 0/5 [00:00<?, ?it/s]c:\\Users\\mikol\\Desktop\\Master thesis\\mcut_feature_selection\\mcut_venv\\lib\\site-packages\\sklearn\\linear_model\\_coordinate_descent.py:678: ConvergenceWarning: Objective did not converge. You might want to increase the number of iterations, check the scale of the features or consider increasing regularisation. Duality gap: 1.486e+08, tolerance: 3.932e+04\n",
      "  model = cd_fast.enet_coordinate_descent(\n",
      " 20%|██        | 1/5 [00:22<01:31, 22.95s/it]c:\\Users\\mikol\\Desktop\\Master thesis\\mcut_feature_selection\\mcut_venv\\lib\\site-packages\\sklearn\\linear_model\\_coordinate_descent.py:678: ConvergenceWarning: Objective did not converge. You might want to increase the number of iterations, check the scale of the features or consider increasing regularisation. Duality gap: 1.296e+08, tolerance: 3.932e+04\n",
      "  model = cd_fast.enet_coordinate_descent(\n",
      " 40%|████      | 2/5 [00:56<01:28, 29.38s/it]c:\\Users\\mikol\\Desktop\\Master thesis\\mcut_feature_selection\\mcut_venv\\lib\\site-packages\\sklearn\\linear_model\\_coordinate_descent.py:678: ConvergenceWarning: Objective did not converge. You might want to increase the number of iterations, check the scale of the features or consider increasing regularisation. Duality gap: 1.054e+08, tolerance: 3.932e+04\n",
      "  model = cd_fast.enet_coordinate_descent(\n",
      " 60%|██████    | 3/5 [01:23<00:56, 28.36s/it]c:\\Users\\mikol\\Desktop\\Master thesis\\mcut_feature_selection\\mcut_venv\\lib\\site-packages\\sklearn\\linear_model\\_coordinate_descent.py:678: ConvergenceWarning: Objective did not converge. You might want to increase the number of iterations, check the scale of the features or consider increasing regularisation. Duality gap: 7.294e+06, tolerance: 3.932e+04\n",
      "  model = cd_fast.enet_coordinate_descent(\n",
      "100%|██████████| 5/5 [02:04<00:00, 24.93s/it]\n"
     ]
    }
   ],
   "source": [
    "for i in tqdm([0.1, 0.5, 1, 5, 10]):\n",
    "    now = pd.Timestamp.now(tz='CET')\n",
    "    features = lasso_feature_selection(train.drop(columns=['marg']), train.marg, i)\n",
    "    time_ = pd.Timestamp.now(tz='CET') - now\n",
    "    with open(f'../data/std_lasso_feature_selection_{i}.pkl', 'wb') as f:\n",
    "        pickle.dump(features + [time_], f)\n"
   ]
  },
  {
   "cell_type": "code",
   "execution_count": 26,
   "metadata": {},
   "outputs": [
    {
     "name": "stderr",
     "output_type": "stream",
     "text": [
      "100%|██████████| 1/1 [01:35<00:00, 95.03s/it]\n"
     ]
    }
   ],
   "source": [
    "for i in tqdm(range(25, 30, 5)):\n",
    "    now = pd.Timestamp.now(tz='CET')\n",
    "    features = relief_algorithm(train.drop(columns=['marg']), train.marg, i)\n",
    "    time_ = pd.Timestamp.now(tz='CET') - now\n",
    "    with open(f'../data/std_relief_algorithm_{i}.pkl', 'wb') as f:\n",
    "        pickle.dump(features + [time_], f)\n"
   ]
  },
  {
   "cell_type": "code",
   "execution_count": 28,
   "metadata": {},
   "outputs": [
    {
     "name": "stderr",
     "output_type": "stream",
     "text": [
      "100%|██████████| 4/4 [00:00<?, ?it/s]\n"
     ]
    }
   ],
   "source": [
    "for i in tqdm(range(5, 25, 5)):\n",
    "    with open(f'../data/std_relief_algorithm_{i}.pkl', 'wb') as f:\n",
    "        pickle.dump(features[:i] + [time_], f)"
   ]
  },
  {
   "cell_type": "code",
   "execution_count": 4,
   "metadata": {},
   "outputs": [
    {
     "name": "stdout",
     "output_type": "stream",
     "text": [
      "Max condition is abs(mono)>0.6\n",
      "Number of features is 67\n",
      "I saved it as 'results'.\n"
     ]
    },
    {
     "name": "stdout",
     "output_type": "stream",
     "text": [
      "I saved importantn features due to the Lasso regression as an attribute 'important_features'.\n"
     ]
    },
    {
     "name": "stderr",
     "output_type": "stream",
     "text": [
      "100%|██████████| 5/5 [6:28:59<00:00, 4667.98s/it]  \n"
     ]
    }
   ],
   "source": [
    "for i in tqdm(range(50, 175, 25)):\n",
    "    now = pd.Timestamp.now(tz='CET')\n",
    "    features = mcut_feature_selection(train, 6, 'marg', np.mean, 7, mcut, 1, i, 5)\n",
    "    time_ = pd.Timestamp.now(tz='CET') - now\n",
    "    with open(f'../data/std_mcut_feature_selection_{i}.pkl', 'wb') as f:\n",
    "        pickle.dump(features + [time_], f)\n"
   ]
  },
  {
   "cell_type": "code",
   "execution_count": null,
   "metadata": {},
   "outputs": [],
   "source": []
  }
 ],
 "metadata": {
  "kernelspec": {
   "display_name": "mcut_venv",
   "language": "python",
   "name": "python3"
  },
  "language_info": {
   "codemirror_mode": {
    "name": "ipython",
    "version": 3
   },
   "file_extension": ".py",
   "mimetype": "text/x-python",
   "name": "python",
   "nbconvert_exporter": "python",
   "pygments_lexer": "ipython3",
   "version": "3.10.8"
  }
 },
 "nbformat": 4,
 "nbformat_minor": 2
}

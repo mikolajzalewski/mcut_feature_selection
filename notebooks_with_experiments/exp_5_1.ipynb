{
 "cells": [
  {
   "cell_type": "code",
   "execution_count": 1,
   "metadata": {},
   "outputs": [
    {
     "name": "stderr",
     "output_type": "stream",
     "text": [
      "c:\\Users\\mikol\\Desktop\\Master thesis\\mcut_feature_selection\\mcut_venv\\lib\\site-packages\\tqdm\\auto.py:21: TqdmWarning: IProgress not found. Please update jupyter and ipywidgets. See https://ipywidgets.readthedocs.io/en/stable/user_install.html\n",
      "  from .autonotebook import tqdm as notebook_tqdm\n"
     ]
    }
   ],
   "source": [
    "from other_methods_implemenations  import *\n",
    "from mcut import broader_df\n",
    "import pandas as pd\n",
    "import numpy as np\n",
    "import pickle"
   ]
  },
  {
   "cell_type": "code",
   "execution_count": 2,
   "metadata": {},
   "outputs": [],
   "source": [
    "df = pd.read_pickle('../data/broaded_df').dropna()"
   ]
  },
  {
   "cell_type": "code",
   "execution_count": 3,
   "metadata": {},
   "outputs": [],
   "source": [
    "train = df.loc['2021':'2022']\n",
    "test = df.loc['2023':'2023-3']"
   ]
  },
  {
   "cell_type": "code",
   "execution_count": 36,
   "metadata": {},
   "outputs": [],
   "source": [
    "res = pd.DataFrame(columns=['time','no_feats']).rename_axis('method')"
   ]
  },
  {
   "cell_type": "code",
   "execution_count": 39,
   "metadata": {},
   "outputs": [
    {
     "name": "stderr",
     "output_type": "stream",
     "text": [
      "  0%|          | 0/5 [00:00<?, ?it/s]"
     ]
    },
    {
     "name": "stderr",
     "output_type": "stream",
     "text": [
      "100%|██████████| 5/5 [00:04<00:00,  1.03it/s]\n"
     ]
    }
   ],
   "source": [
    "for i in tqdm(range(5, 30, 5)):\n",
    "    now = pd.Timestamp.now(tz='CET')\n",
    "    features = correlation_feature_selection(train, i)\n",
    "    time_ = pd.Timestamp.now(tz='CET') - now\n",
    "    with open(f'../data/correlation_features_{i}.pkl', 'wb') as f:\n",
    "        pickle.dump(features + [time_], f)\n"
   ]
  },
  {
   "cell_type": "code",
   "execution_count": 4,
   "metadata": {},
   "outputs": [
    {
     "name": "stderr",
     "output_type": "stream",
     "text": [
      "c:\\Users\\mikol\\Desktop\\Master thesis\\mcut_feature_selection\\mcut_venv\\lib\\site-packages\\numpy\\lib\\function_base.py:2897: RuntimeWarning: invalid value encountered in divide\n",
      "  c /= stddev[:, None]\n",
      "c:\\Users\\mikol\\Desktop\\Master thesis\\mcut_feature_selection\\mcut_venv\\lib\\site-packages\\numpy\\lib\\function_base.py:2898: RuntimeWarning: invalid value encountered in divide\n",
      "  c /= stddev[None, :]\n",
      "170it [00:00, 82298.21it/s]<?, ?it/s]\n",
      "14365it [00:00, 107818.58it/s]\n",
      " 22%|██▏       | 2/9 [00:00<00:00, 13.46it/s]"
     ]
    },
    {
     "name": "stderr",
     "output_type": "stream",
     "text": [
      "804440it [00:08, 94578.90it/s]\n",
      "33585370it [09:46, 57228.13it/s]0, 13.46it/s]\n",
      " 44%|████▍     | 4/9 [09:55<14:35, 175.15s/it]"
     ]
    }
   ],
   "source": [
    "now = pd.Timestamp.now(tz='CET')\n",
    "features = heuristic_feature_selection(train)\n",
    "time_ = pd.Timestamp.now(tz='CET') - now\n",
    "with open(f'../data/heuristic_features.pkl', 'wb') as f:\n",
    "    pickle.dump(features + [time_], f)\n"
   ]
  },
  {
   "cell_type": "code",
   "execution_count": null,
   "metadata": {},
   "outputs": [],
   "source": []
  }
 ],
 "metadata": {
  "kernelspec": {
   "display_name": "mcut_venv",
   "language": "python",
   "name": "python3"
  },
  "language_info": {
   "codemirror_mode": {
    "name": "ipython",
    "version": 3
   },
   "file_extension": ".py",
   "mimetype": "text/x-python",
   "name": "python",
   "nbconvert_exporter": "python",
   "pygments_lexer": "ipython3",
   "version": "3.10.8"
  }
 },
 "nbformat": 4,
 "nbformat_minor": 2
}
